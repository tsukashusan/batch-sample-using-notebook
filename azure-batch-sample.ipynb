{
 "cells": [
  {
   "cell_type": "markdown",
   "metadata": {},
   "source": [
    "# Azure Batch サンプル (Bicep + C#)\n",
    "## Bicep ファイルの作成 (リソースグループ)"
   ]
  },
  {
   "cell_type": "code",
   "execution_count": null,
   "metadata": {
    "dotnet_interactive": {
     "language": "csharp"
    },
    "polyglot_notebook": {
     "kernelName": "csharp"
    }
   },
   "outputs": [],
   "source": [
    "#!pwsh\n",
    "\n",
    "$bicepFile = @\"\n",
    "targetScope='subscription'\n",
    "\n",
    "param resourceGroupName string\n",
    "param resourceGroupLocation string\n",
    "\n",
    "resource newRG 'Microsoft.Resources/resourceGroups@2023-07-01' = {\n",
    "  name: resourceGroupName\n",
    "  location: resourceGroupLocation\n",
    "}\n",
    "\"@\n",
    "\n",
    "Out-File -FilePath .\\resourceGroup.bicep -InputObject $bicepFile -NoNewline"
   ]
  },
  {
   "cell_type": "markdown",
   "metadata": {},
   "source": [
    "### Bicep ファイルの作成 (Azure Batch)"
   ]
  },
  {
   "cell_type": "code",
   "execution_count": null,
   "metadata": {
    "dotnet_interactive": {
     "language": "csharp"
    },
    "polyglot_notebook": {
     "kernelName": "csharp"
    }
   },
   "outputs": [],
   "source": [
    "#!pwsh\n",
    "\n",
    "$bicepFile = @'\n",
    "targetScope='resourceGroup'\n",
    "param utcValue string = utcNow()\n",
    "var randomstring = toLower(replace(uniqueString(subscription().id, resourceGroup().id, utcValue), '-', ''))\n",
    "@description('Batch Account Name')\n",
    "var batchAccountName = 'batch${randomstring}'\n",
    "//param batchAccountName string = 'batch${toLower(uniqueString(resourceGroup().id))}'\n",
    "\n",
    "@description('Storage Account type')\n",
    "@allowed([\n",
    "  'Standard_LRS'\n",
    "  'Standard_GRS'\n",
    "  'Standard_ZRS'\n",
    "  'Premium_LRS'\n",
    "])\n",
    "param storageAccountsku string = 'Standard_LRS'\n",
    "\n",
    "@description('Location for all resources.')\n",
    "param location string = resourceGroup().location\n",
    "\n",
    "var storageAccountName = 'storage${randomstring}'\n",
    "//var storageAccountName = 'storage${uniqueString(resourceGroup().id)}'\n",
    "\n",
    "resource storageAccount 'Microsoft.Storage/storageAccounts@2023-01-01' = {\n",
    "  name: storageAccountName\n",
    "  location: location\n",
    "  sku: {\n",
    "    name: storageAccountsku\n",
    "  }\n",
    "  kind: 'StorageV2'\n",
    "  tags: {\n",
    "    ObjectName: storageAccountName\n",
    "  }\n",
    "  properties: {\n",
    "    minimumTlsVersion: 'TLS1_2'\n",
    "    allowBlobPublicAccess: false\n",
    "    networkAcls: {\n",
    "      defaultAction: 'Allow'\n",
    "    }\n",
    "    supportsHttpsTrafficOnly: true\n",
    "  }\n",
    "}\n",
    "\n",
    "resource batchAccount 'Microsoft.Batch/batchAccounts@2024-02-01' = {\n",
    "  name: batchAccountName\n",
    "  location: location\n",
    "  tags: {\n",
    "    ObjectName: batchAccountName\n",
    "  }\n",
    "  properties: {\n",
    "    allowedAuthenticationModes: [\n",
    "      'AAD'\n",
    "      'SharedKey'\n",
    "      'TaskAuthenticationToken'\n",
    "    ]\n",
    "    autoStorage: {\n",
    "      authenticationMode: 'BatchAccountManagedIdentity'\n",
    "      storageAccountId: storageAccount.id\n",
    "    }\n",
    "  }\n",
    "  identity : {\n",
    "    type: 'SystemAssigned'\n",
    "  }\n",
    "}\n",
    "\n",
    "output storageAccountName string = storageAccount.name\n",
    "output batchAccountName string = batchAccount.name\n",
    "output location string = location\n",
    "output resourceGroupName string = resourceGroup().name\n",
    "output resourceId string = batchAccount.id\n",
    "'@\n",
    "\n",
    "Out-File -FilePath .\\main.bicep -InputObject $bicepFile -NoNewline"
   ]
  },
  {
   "cell_type": "markdown",
   "metadata": {},
   "source": [
    "### Azure ログインし Bicepファイルでデプロイを実施"
   ]
  },
  {
   "cell_type": "code",
   "execution_count": null,
   "metadata": {
    "dotnet_interactive": {
     "language": "csharp"
    },
    "polyglot_notebook": {
     "kernelName": "csharp"
    }
   },
   "outputs": [],
   "source": [
    "#!pwsh\n",
    "$jsonData = (Get-Content \".\\bicep-setting.json\" | ConvertFrom-Json)\n",
    "$TENANT_ID = $jsonData.TENANT_ID\n",
    "$SUBSCRIPTION_GUID = $jsonData.SUBSCRIPTION_GUID\n",
    "$RESOURCE_GROUP = $jsonData.RESOURCE_GROUP\n",
    "$LOCATION = $jsonData.LOCATION\n",
    "$BATCH_POOL_ID = $jsonData.BATCH_POOL_ID\n",
    "$BATCH_JOB_ID = $jsonData.BATCH_JOB_ID\n",
    "$BATCH_POOL_NODE_COUNT = $jsonData.BATCH_POOL_NODE_COUNT\n",
    "$BATCH_POOL_VM_SIZE = $jsonData.BATCH_POOL_VM_SIZE\n",
    "$SHARED_IMAGE_PUBLISHER = $jsonData.SHARED_IMAGE_PUBLISHER\n",
    "$SHARED_IMAGE_OFFER = $jsonData.SHARED_IMAGE_OFFER\n",
    "$SHARED_IMAGE_SKU = $jsonData.SHARED_IMAGE_SKU\n",
    "$SHARED_IMAGE_VERSION = $jsonData.SHARED_IMAGE_VERSION"
   ]
  },
  {
   "cell_type": "markdown",
   "metadata": {},
   "source": [
    "#### Azure へログイン"
   ]
  },
  {
   "cell_type": "code",
   "execution_count": null,
   "metadata": {
    "dotnet_interactive": {
     "language": "csharp"
    },
    "polyglot_notebook": {
     "kernelName": "csharp"
    }
   },
   "outputs": [],
   "source": [
    "#!pwsh\n",
    "az login -t ${TENANT_ID}\n",
    "az account set --subscription ${SUBSCRIPTOIN_GUID}"
   ]
  },
  {
   "cell_type": "markdown",
   "metadata": {},
   "source": [
    "#### bicep の upgrade"
   ]
  },
  {
   "cell_type": "code",
   "execution_count": null,
   "metadata": {
    "dotnet_interactive": {
     "language": "csharp"
    },
    "polyglot_notebook": {
     "kernelName": "csharp"
    }
   },
   "outputs": [],
   "source": [
    "#!pwsh\n",
    "az bicep upgrade"
   ]
  },
  {
   "cell_type": "markdown",
   "metadata": {},
   "source": [
    "#### リソースグループの作成 (Bicep)"
   ]
  },
  {
   "cell_type": "code",
   "execution_count": null,
   "metadata": {
    "dotnet_interactive": {
     "language": "csharp"
    },
    "polyglot_notebook": {
     "kernelName": "csharp"
    }
   },
   "outputs": [],
   "source": [
    "#!pwsh\n",
    "az deployment sub create --name demoSubDeployment --location $LOCATION --template-file resourceGroup.bicep --parameters resourceGroupName=$RESOURCE_GROUP resourceGroupLocation=$LOCATION"
   ]
  },
  {
   "cell_type": "markdown",
   "metadata": {},
   "source": [
    "#### Azure Batch の作成"
   ]
  },
  {
   "cell_type": "code",
   "execution_count": null,
   "metadata": {
    "dotnet_interactive": {
     "language": "csharp"
    },
    "polyglot_notebook": {
     "kernelName": "csharp"
    }
   },
   "outputs": [],
   "source": [
    "#!pwsh\n",
    "$out = az deployment group create --name batch_create --resource-group $RESOURCE_GROUP --template-file main.bicep --verbose"
   ]
  },
  {
   "cell_type": "code",
   "execution_count": null,
   "metadata": {
    "dotnet_interactive": {
     "language": "csharp"
    },
    "polyglot_notebook": {
     "kernelName": "csharp"
    }
   },
   "outputs": [],
   "source": [
    "#!pwsh\n",
    "$batchSetting = ($out|ConvertFrom-Json)\n",
    "$batch_keys = az batch account keys list --name $batchSetting.properties.outputs.batchAccountName.value --resource-group $RESOURCE_GROUP\n",
    "$_env = @\"\n",
    "TENANT_ID=${TENANT_ID}\n",
    "LOCATION=${LOCATION}\n",
    "STORAGE_ACCOUNT_NAME=$($batchSetting.properties.outputs.storageAccountName.value)\n",
    "BATCH_ACCOUNT_NAME=$($batchSetting.properties.outputs.batchAccountName.value)\n",
    "BATCH_ACCOUNT_KEY=$(($batch_keys|ConvertFrom-Json).primary)\n",
    "BATCH_ACCOUNTURL=https://$($batchSetting.properties.outputs.batchAccountName.value).${LOCATION}.batch.azure.com\n",
    "BATCH_POOL_ID=${BATCH_POOL_ID}\n",
    "BATCH_JOB_ID=${BATCH_JOB_ID}\n",
    "BATCH_POOL_NODE_COUNT=${BATCH_POOL_NODE_COUNT}\n",
    "BATCH_POOL_VM_SIZE=${BATCH_POOL_VM_SIZE}\n",
    "SHARED_IMAGE_PUBLISHER=${SHARED_IMAGE_PUBLISHER}\n",
    "SHARED_IMAGE_OFFER=${SHARED_IMAGE_OFFER}\n",
    "SHARED_IMAGE_SKU=${SHARED_IMAGE_SKU}\n",
    "SHARED_IMAGE_VERSION=${SHARED_IMAGE_VERSION}\n",
    "\"@\n",
    "Out-File -FilePath .\\.env -InputObject $_env -NoNewline"
   ]
  },
  {
   "cell_type": "markdown",
   "metadata": {},
   "source": [
    "### Storage Account へのロールアサイン\n",
    "#### 作成ユーザを所有者(Storage Blob Data Owner)にアサイン"
   ]
  },
  {
   "cell_type": "code",
   "execution_count": null,
   "metadata": {
    "dotnet_interactive": {
     "language": "csharp"
    },
    "polyglot_notebook": {
     "kernelName": "csharp"
    }
   },
   "outputs": [],
   "source": [
    "#!pwsh\n",
    "$user = (az ad signed-in-user show|ConvertFrom-Json)\n",
    "az role assignment create --role \"Storage Blob Data Owner\" --assignee-object-id $user.id --assignee-principal-type User --scope \"/subscriptions/${SUBSCRIPTION_GUID}/resourceGroups/${RESOURCE_GROUP}/providers/Microsoft.Storage/storageAccounts/$($batchSetting.properties.outputs.storageAccountName.value)\""
   ]
  },
  {
   "cell_type": "markdown",
   "metadata": {},
   "source": [
    "#### Azure Batch をBLOBデータ共同作成者(Storage Blob Data Contributor)にアサイン"
   ]
  },
  {
   "cell_type": "code",
   "execution_count": null,
   "metadata": {
    "dotnet_interactive": {
     "language": "csharp"
    },
    "polyglot_notebook": {
     "kernelName": "csharp"
    }
   },
   "outputs": [],
   "source": [
    "#!pwsh\n",
    "$batch = (az ad sp list --display-name $batchSetting.properties.outputs.batchAccountName.value|ConvertFrom-Json)\n",
    "az role assignment create --role \"Storage Blob Data Contributor\" --assignee-object-id $batch.id --assignee-principal-type ServicePrincipal --scope \"/subscriptions/${SUBSCRIPTION_GUID}/resourceGroups/${RESOURCE_GROUP}/providers/Microsoft.Storage/storageAccounts/$($batchSetting.properties.outputs.storageAccountName.value)\"\n"
   ]
  },
  {
   "cell_type": "markdown",
   "metadata": {},
   "source": [
    "## C#(.NET) プログラム実行"
   ]
  },
  {
   "cell_type": "markdown",
   "metadata": {},
   "source": [
    "### パッケージのインストール"
   ]
  },
  {
   "cell_type": "code",
   "execution_count": null,
   "metadata": {
    "dotnet_interactive": {
     "language": "csharp"
    },
    "polyglot_notebook": {
     "kernelName": "csharp"
    }
   },
   "outputs": [],
   "source": [
    "#r \"nuget: Microsoft.Azure.Batch\"\n",
    "#r \"nuget: Azure.Storage.Blobs\"\n",
    "#r \"nuget: Azure.Identity\"\n",
    "#r \"nuget: DotNetEnv, 3.0.0\""
   ]
  },
  {
   "cell_type": "markdown",
   "metadata": {},
   "source": [
    "### Azure Batch の変数の宣言"
   ]
  },
  {
   "cell_type": "code",
   "execution_count": null,
   "metadata": {
    "dotnet_interactive": {
     "language": "csharp"
    },
    "polyglot_notebook": {
     "kernelName": "csharp"
    }
   },
   "outputs": [],
   "source": [
    "#define NOTEBOOK\n",
    "\n",
    "using Azure;\n",
    "using Azure.Core;\n",
    "using Azure.Storage;\n",
    "using Azure.Storage.Blobs;\n",
    "using Azure.Storage.Blobs.Models;\n",
    "using Azure.Storage.Blobs.Specialized;\n",
    "using Azure.Storage.Sas;\n",
    "using Azure.Identity;\n",
    "using Microsoft.Azure.Batch;\n",
    "using Microsoft.Azure.Batch.Auth;\n",
    "using Microsoft.Azure.Batch.Common;\n",
    "using Microsoft.Extensions.Configuration;\n",
    "using System;\n",
    "using System.Collections.Generic;\n",
    "using System.Diagnostics;\n",
    "using System.IO;\n",
    "\n",
    "\n",
    "// Update the Batch and Storage account credential strings below with the values unique to your accounts.\n",
    "// These are used when constructing connection strings for the Batch and Storage client objects.\n",
    "// Batch account credentials\n",
    "//Using https://github.com/tonerdo/dotnet-env\n",
    "DotNetEnv.Env.Load();\n",
    "\n",
    "readonly string tenantId = DotNetEnv.Env.GetString(\"TENANT_ID\");\n",
    "readonly string location = DotNetEnv.Env.GetString(\"LOCATION\");\n",
    "readonly string BatchAccountName = DotNetEnv.Env.GetString(\"BATCH_ACCOUNT_NAME\");\n",
    "readonly string BatchAccountKey = DotNetEnv.Env.GetString(\"BATCH_ACCOUNT_KEY\");\n",
    "readonly string BatchAccountUrl = string.Format(DotNetEnv.Env.GetString(\"BATCH_ACCOUNTURL\"), BatchAccountName, location);\n",
    "// Storage account credentials\n",
    "readonly string StorageAccountName = DotNetEnv.Env.GetString(\"STORAGE_ACCOUNT_NAME\");\n",
    "//const string StorageAccountKey = \"\";\n",
    "// Batch resource settings\n",
    "readonly string PoolId = DotNetEnv.Env.GetString(\"BATCH_POOL_ID\");\n",
    "readonly string JobId = DotNetEnv.Env.GetString(\"BATCH_JOB_ID\");\n",
    "readonly int PoolNodeCount = DotNetEnv.Env.GetInt(\"BATCH_POOL_NODE_COUNT\");\n",
    "readonly string PoolVMSize = DotNetEnv.Env.GetString(\"BATCH_POOL_VM_SIZE\");\n",
    "\n",
    "// Batch Image settings\n",
    "readonly string publisher = DotNetEnv.Env.GetString(\"SHARED_IMAGE_PUBLISHER\");\n",
    "readonly string offer = DotNetEnv.Env.GetString(\"SHARED_IMAGE_OFFER\");\n",
    "readonly string sku = DotNetEnv.Env.GetString(\"SHARED_IMAGE_SKU\");\n",
    "readonly string version = DotNetEnv.Env.GetString(\"SHARED_IMAGE_VERSION\");\n",
    "\n"
   ]
  },
  {
   "cell_type": "markdown",
   "metadata": {},
   "source": [
    "### Blobのクライアントオブジェクト作成"
   ]
  },
  {
   "cell_type": "code",
   "execution_count": null,
   "metadata": {
    "dotnet_interactive": {
     "language": "csharp"
    },
    "polyglot_notebook": {
     "kernelName": "csharp"
    }
   },
   "outputs": [],
   "source": [
    "BlobServiceClient GetBlobServiceClient(string storageAccountName)\n",
    "{\n",
    "    BlobServiceClient client = null;\n",
    "    var blobUri = $\"https://{storageAccountName}.blob.core.windows.net\";\n",
    "    try\n",
    "    {\n",
    "        client = new BlobServiceClient(new Uri(blobUri), new Azure.Identity.DefaultAzureCredential(\n",
    "            new Azure.Identity.DefaultAzureCredentialOptions\n",
    "            {\n",
    "                // Azure AD のテナント ID を指定する\n",
    "                AdditionallyAllowedTenants = { \"*\" },\n",
    "                TenantId = tenantId\n",
    "            }\n",
    "        ));\n",
    "    }catch(Exception e)\n",
    "    {\n",
    "        Console.WriteLine(e);\n",
    "        throw e;\n",
    "    }\n",
    "    return client;\n",
    "}"
   ]
  },
  {
   "cell_type": "markdown",
   "metadata": {},
   "source": [
    "### ユーザ委任キーの取得"
   ]
  },
  {
   "cell_type": "code",
   "execution_count": null,
   "metadata": {
    "dotnet_interactive": {
     "language": "csharp"
    },
    "polyglot_notebook": {
     "kernelName": "csharp"
    }
   },
   "outputs": [],
   "source": [
    "async Task<UserDelegationKey> RequestUserDelegationKey(BlobServiceClient blobServiceClient)\n",
    "{\n",
    "    // Get a user delegation key for the Blob service that's valid for 1 day\n",
    "    UserDelegationKey userDelegationKey =\n",
    "        await blobServiceClient.GetUserDelegationKeyAsync(\n",
    "            DateTimeOffset.UtcNow,\n",
    "            DateTimeOffset.UtcNow.AddHours(1));\n",
    "\n",
    "    return userDelegationKey;\n",
    "}"
   ]
  },
  {
   "cell_type": "markdown",
   "metadata": {},
   "source": [
    "### Blobへアップロードするリソースファイルのオブジェクト作成"
   ]
  },
  {
   "cell_type": "code",
   "execution_count": null,
   "metadata": {
    "dotnet_interactive": {
     "language": "csharp"
    },
    "polyglot_notebook": {
     "kernelName": "csharp"
    }
   },
   "outputs": [],
   "source": [
    "ResourceFile UploadFileToContainer(BlobContainerClient containerClient, string containerName, string filePath, string storedPolicyName = null, UserDelegationKey userDelegationKey = null)\n",
    "{\n",
    "    Console.WriteLine(\"Uploading file {0} to container [{1}]...\", filePath, containerName);\n",
    "    string blobName = Path.GetFileName(filePath);\n",
    "    filePath = Path.Combine(Environment.CurrentDirectory, filePath);\n",
    "\n",
    "    var blobClient = containerClient.GetBlobClient(blobName);\n",
    "    Console.WriteLine($\"blobName:{blobName} filePath:{filePath}\");\n",
    "    blobClient.Upload(filePath, true);\n",
    "\n",
    "    // Set the expiry time and permissions for the blob shared access signature. \n",
    "    // In this case, no start time is specified, so the shared access signature \n",
    "    // becomes valid immediately\n",
    "    // Check whether this BlobContainerClient object has been authorized with Shared Key.\n",
    "    if (blobClient.CanGenerateSasUri)\n",
    "    {\n",
    "        // Create a SAS token\n",
    "        var sasBuilder = new BlobSasBuilder()\n",
    "        {\n",
    "            BlobContainerName = containerClient.Name,\n",
    "            BlobName = blobClient.Name,\n",
    "            Resource = \"b\"\n",
    "        };\n",
    "//\n",
    "        if (storedPolicyName == null)\n",
    "        {\n",
    "            sasBuilder.ExpiresOn = DateTimeOffset.UtcNow.AddHours(1);\n",
    "            sasBuilder.SetPermissions(BlobContainerSasPermissions.Read);\n",
    "        }\n",
    "        else\n",
    "        {\n",
    "            sasBuilder.Identifier = storedPolicyName;\n",
    "        }\n",
    "//\n",
    "        var sasUri = blobClient.GenerateSasUri(sasBuilder).ToString();\n",
    "        // Create a SAS token for the blob resource that's also valid for 1 day\n",
    "        return ResourceFile.FromUrl(sasUri, filePath);\n",
    "    }\n",
    "    else\n",
    "    {\n",
    "        BlobSasBuilder sasBuilder = new BlobSasBuilder()\n",
    "        {\n",
    "            BlobContainerName = blobClient.BlobContainerName,\n",
    "            BlobName = blobClient.Name,\n",
    "            Resource = \"b\",\n",
    "            StartsOn = DateTimeOffset.UtcNow,\n",
    "            ExpiresOn = DateTimeOffset.UtcNow.AddHours(1)\n",
    "        };\n",
    "    \n",
    "        // Specify the necessary permissions\n",
    "        //sasBuilder.SetPermissions(BlobSasPermissions.Read | BlobSasPermissions.Write);\n",
    "        sasBuilder.SetPermissions(BlobSasPermissions.Read);\n",
    "        // Add the SAS token to the blob URI\n",
    "        BlobUriBuilder uriBuilder = new BlobUriBuilder(blobClient.Uri)\n",
    "        {\n",
    "            // Specify the user delegation key\n",
    "            Sas = sasBuilder.ToSasQueryParameters(\n",
    "                userDelegationKey,\n",
    "                containerClient.GetParentBlobServiceClient().AccountName)\n",
    "        };\n",
    "        return ResourceFile.FromUrl(uriBuilder.ToUri().ToString(), filePath);\n",
    "    }\n",
    "}"
   ]
  },
  {
   "cell_type": "markdown",
   "metadata": {},
   "source": [
    "### 作成する仮想マシンイメージのオブジェクト作成"
   ]
  },
  {
   "cell_type": "code",
   "execution_count": null,
   "metadata": {
    "dotnet_interactive": {
     "language": "csharp"
    },
    "polyglot_notebook": {
     "kernelName": "csharp"
    }
   },
   "outputs": [],
   "source": [
    "ImageReference CreateImageReference()\n",
    "{\n",
    "    return new ImageReference(\n",
    "        publisher: publisher,\n",
    "        offer: offer,\n",
    "        sku: sku,\n",
    "        version: version);\n",
    "}"
   ]
  },
  {
   "cell_type": "markdown",
   "metadata": {},
   "source": [
    "### イメージを元にした仮想マシンの仮想マシンの設定\n",
    "以下のアドレスで取得可能</br>\n",
    "https://learn.microsoft.com/en-us/rest/api/batchservice/account/list-supported-images?view=rest-batchservice-2023-11-01&tabs=HTTP"
   ]
  },
  {
   "cell_type": "code",
   "execution_count": null,
   "metadata": {
    "dotnet_interactive": {
     "language": "csharp"
    },
    "polyglot_notebook": {
     "kernelName": "csharp"
    }
   },
   "outputs": [],
   "source": [
    "VirtualMachineConfiguration CreateVirtualMachineConfiguration(ImageReference imageReference)\n",
    "{\n",
    "    return new VirtualMachineConfiguration(\n",
    "        imageReference: imageReference,\n",
    "        nodeAgentSkuId: \"batch.node.windows amd64\");\n",
    "}"
   ]
  },
  {
   "cell_type": "markdown",
   "metadata": {},
   "source": [
    "### Batch プールの作成"
   ]
  },
  {
   "cell_type": "code",
   "execution_count": null,
   "metadata": {
    "dotnet_interactive": {
     "language": "csharp"
    },
    "polyglot_notebook": {
     "kernelName": "csharp"
    }
   },
   "outputs": [],
   "source": [
    "void CreateBatchPool(BatchClient batchClient, VirtualMachineConfiguration vmConfiguration)\n",
    "{\n",
    "    try\n",
    "    {\n",
    "        CloudPool pool = batchClient.PoolOperations.CreatePool(\n",
    "            poolId: PoolId,\n",
    "            targetDedicatedComputeNodes: PoolNodeCount,\n",
    "            virtualMachineSize: PoolVMSize,\n",
    "            virtualMachineConfiguration: vmConfiguration);\n",
    "        pool.Commit();\n",
    "    }\n",
    "    catch (BatchException be)\n",
    "    {\n",
    "        // Accept the specific error code PoolExists as that is expected if the pool already exists\n",
    "        if (be.RequestInformation?.BatchError?.Code == BatchErrorCodeStrings.PoolExists)\n",
    "        {\n",
    "            Console.WriteLine(\"The pool {0} already existed when we tried to create it\", PoolId);\n",
    "        }\n",
    "        else\n",
    "        {\n",
    "            throw; // Any other exception is unexpected\n",
    "        }\n",
    "    }\n",
    "}"
   ]
  },
  {
   "cell_type": "markdown",
   "metadata": {},
   "source": [
    "### Batch Poolの作成"
   ]
  },
  {
   "cell_type": "code",
   "execution_count": null,
   "metadata": {
    "dotnet_interactive": {
     "language": "csharp"
    },
    "polyglot_notebook": {
     "kernelName": "csharp"
    }
   },
   "outputs": [],
   "source": [
    "#define NOTEBOOK\n",
    "if (string.IsNullOrEmpty(BatchAccountName) ||\n",
    "    string.IsNullOrEmpty(BatchAccountKey) ||\n",
    "    string.IsNullOrEmpty(BatchAccountUrl) ||\n",
    "    string.IsNullOrEmpty(StorageAccountName))\n",
    "{\n",
    "    throw new InvalidOperationException(\"One or more account credential strings have not been populated. Please ensure that your Batch and Storage account credentials have been specified.\");\n",
    "}\n",
    "try\n",
    "{\n",
    "    Console.WriteLine(BatchAccountName);\n",
    "    Console.WriteLine(BatchAccountKey);\n",
    "    Console.WriteLine(BatchAccountUrl);\n",
    "    Console.WriteLine(StorageAccountName);\n",
    "    Console.WriteLine(\"Sample start: {0}\", DateTime.Now);\n",
    "    \n",
    "    var timer = new Stopwatch();\n",
    "    timer.Start();\n",
    "    // Create the blob client, for use in obtaining references to blob storage containers\n",
    "    var blobServiceClient = GetBlobServiceClient(StorageAccountName);\n",
    "    // Use the blob client to create the input container in Azure Storage \n",
    "    const string inputContainerName = \"input\";\n",
    "    var containerClient = blobServiceClient.GetBlobContainerClient(inputContainerName);\n",
    "    await containerClient.CreateIfNotExistsAsync();\n",
    "    // The collection of data files that are to be processed by the tasks\n",
    "    List<string> inputFilePaths = new()\n",
    "    {\n",
    "        \"taskdata0.txt\",\n",
    "        \"taskdata1.txt\",\n",
    "        \"taskdata2.txt\"\n",
    "    };\n",
    "    var userDelegationKey = await RequestUserDelegationKey(blobServiceClient);\n",
    "    // Upload the data files to Azure Storage. This is the data that will be processed by each of the tasks that are\n",
    "    // executed on the compute nodes within the pool.\n",
    "    var inputFiles = new List<ResourceFile>();\n",
    "    foreach (var filePath in inputFilePaths)\n",
    "    {\n",
    "        inputFiles.Add(UploadFileToContainer(containerClient: containerClient, containerName: inputContainerName, filePath: filePath, userDelegationKey: userDelegationKey));\n",
    "    }\n",
    "    // Get a Batch client using account creds\n",
    "    // TODO: BatchAccount Key は セキュリティのためKey Vaultから取り出すよう改造\n",
    "    // 参考URL https://learn.microsoft.com/ja-jp/azure/batch/batch-aad-auth\n",
    "    //var credential = new DefaultAzureCredential(new DefaultAzureCredentialOptions { ManagedIdentityClientId = BatchManagedIdentityClientId });\n",
    "    //var credential = new DefaultAzureCredential();\n",
    "    //AccessToken token = await credential.GetTokenAsync(new Azure.Core.TokenRequestContext(new[] { \"https://batch.core.windows.net/\" }), new System.Threading.CancellationToken());\n",
    "    //BatchTokenCredentials cred = new BatchTokenCredentials(BatchAccountUrl, token.Token);\n",
    "    // 参考URL https://github.com/MicrosoftDocs/azure-docs/issues/109200\n",
    "    //var tokenCred = new DefaultAzureCredential();\n",
    "    //using BatchClient batchClient = BatchClient.Open(new BatchTokenCredentials(BatchAccountUrl,\n",
    "    //async () => (await tokenCred.GetTokenAsync(new TokenRequestContext(new[] { \"https://batch.core.windows.net/.default\" }))).Token));\n",
    "    var cred = new BatchSharedKeyCredentials(BatchAccountUrl, BatchAccountName, BatchAccountKey);\n",
    "    using BatchClient batchClient = BatchClient.Open(cred);\n",
    "    Console.WriteLine(\"Creating pool [{0}]...\", PoolId);\n",
    "    // Create a Windows Server image, VM configuration, Batch pool\n",
    "    ImageReference imageReference = CreateImageReference();\n",
    "    VirtualMachineConfiguration vmConfiguration = CreateVirtualMachineConfiguration(imageReference);\n",
    "    CreateBatchPool(batchClient, vmConfiguration);\n",
    "    // Create a Batch job\n",
    "    Console.WriteLine(\"Creating job [{0}]...\", JobId);\n",
    "    try\n",
    "    {\n",
    "        CloudJob job = batchClient.JobOperations.CreateJob();\n",
    "        job.Id = JobId;\n",
    "        job.PoolInformation = new PoolInformation { PoolId = PoolId };\n",
    "        job.Commit();\n",
    "    }\n",
    "    catch (BatchException be)\n",
    "    {\n",
    "        // Accept the specific error code JobExists as that is expected if the job already exists\n",
    "        if (be.RequestInformation?.BatchError?.Code == BatchErrorCodeStrings.JobExists)\n",
    "        {\n",
    "            Console.WriteLine(\"The job {0} already existed when we tried to create it\", JobId);\n",
    "        }\n",
    "        else\n",
    "        {\n",
    "            throw; // Any other exception is unexpected\n",
    "        }\n",
    "    }\n",
    "    // Create a collection to hold the tasks that we'll be adding to the job\n",
    "    Console.WriteLine(\"Adding {0} tasks to job [{1}]...\", inputFiles.Count, JobId);\n",
    "    var tasks = new List<CloudTask>();\n",
    "    // Create each of the tasks to process one of the input files. \n",
    "    foreach (var x in inputFiles.Select((value, index) => new { value, index }))\n",
    "    {\n",
    "        string taskId = string.Format(\"Task{0}\", x.index);\n",
    "        string inputFilename = x.value.FilePath;\n",
    "        string taskCommandLine = string.Format(\"cmd /c type {0}\", inputFilename);\n",
    "        var task = new CloudTask(taskId, taskCommandLine)\n",
    "        {\n",
    "            ResourceFiles = new List<ResourceFile> { x.value }\n",
    "        };\n",
    "        tasks.Add(task);        \n",
    "    }\n",
    "    //for (int i = 0; i < inputFiles.Count; i++)\n",
    "    //{\n",
    "    //    string taskId = string.Format(\"Task{0}\", i);\n",
    "    //    string inputFilename = inputFiles[i].FilePath;\n",
    "    //    string taskCommandLine = string.Format(\"cmd /c type {0}\", inputFilename);\n",
    "    //    var task = new CloudTask(taskId, taskCommandLine)\n",
    "    //    {\n",
    "    //        ResourceFiles = new List<ResourceFile> { inputFiles[i] }\n",
    "    //    };\n",
    "    //    tasks.Add(task);\n",
    "    //}\n",
    "    // Add all tasks to the job.\n",
    "    batchClient.JobOperations.AddTask(JobId, tasks);\n",
    "    // Monitor task success/failure, specifying a maximum amount of time to wait for the tasks to complete.\n",
    "    TimeSpan timeout = TimeSpan.FromMinutes(30);\n",
    "    Console.WriteLine(\"Monitoring all tasks for 'Completed' state, timeout in {0}...\", timeout);\n",
    "    IEnumerable<CloudTask> addedTasks = batchClient.JobOperations.ListTasks(JobId);\n",
    "    batchClient.Utilities.CreateTaskStateMonitor().WaitAll(addedTasks, TaskState.Completed, timeout);\n",
    "    Console.WriteLine(\"All tasks reached state Completed.\");\n",
    "    // Print task output\n",
    "    Console.WriteLine();\n",
    "    Console.WriteLine(\"Printing task output...\");\n",
    "    IEnumerable<CloudTask> completedtasks = batchClient.JobOperations.ListTasks(JobId);\n",
    "    foreach (CloudTask task in completedtasks)\n",
    "    {\n",
    "        string nodeId = string.Format(task.ComputeNodeInformation.ComputeNodeId);\n",
    "        Console.WriteLine(\"Task: {0}\", task.Id);\n",
    "        Console.WriteLine(\"Node: {0}\", nodeId);\n",
    "        Console.WriteLine(\"Standard out:\");\n",
    "        Console.WriteLine(task.GetNodeFile(Constants.StandardOutFileName).ReadAsString());\n",
    "    }\n",
    "    // Print out some timing info\n",
    "    timer.Stop();\n",
    "    Console.WriteLine();\n",
    "    Console.WriteLine(\"Sample end: {0}\", DateTime.Now);\n",
    "    Console.WriteLine(\"Elapsed time: {0}\", timer.Elapsed);\n",
    "    // Clean up Storage resources\n",
    "    await containerClient.DeleteIfExistsAsync();\n",
    "    Console.WriteLine(\"Container [{0}] deleted.\", inputContainerName);\n",
    "    // Clean up Batch resources (if the user so chooses)\n",
    "    Console.WriteLine();\n",
    "#if NOTEBOOK\n",
    "    \n",
    "#if DELETE\n",
    "    Console.Write($\"Delete jobId: {JobId}\");\n",
    "    batchClient.JobOperations.DeleteJob(JobId);\n",
    "    batchClient.PoolOperations.DeletePool(PoolId);\n",
    "    Console.Write($\"Delete poolId: {PoolId}\");\n",
    "#endif\n",
    "#else\n",
    "    Console.Write(\"Delete job? [yes] no: \");\n",
    "    string response = Console.ReadLine().ToLower();\n",
    "    if (response != \"n\" && response != \"no\")\n",
    "    {\n",
    "        batchClient.JobOperations.DeleteJob(JobId);\n",
    "    }\n",
    "    Console.Write(\"Delete pool? [yes] no: \");\n",
    "    response = Console.ReadLine().ToLower();\n",
    "    if (response != \"n\" && response != \"no\")\n",
    "    {\n",
    "        batchClient.PoolOperations.DeletePool(PoolId);\n",
    "    }\n",
    "#endif\n",
    "}\n",
    "catch(Exception e) \n",
    "{\n",
    "    Console.WriteLine(e.Message);\n",
    "}\n",
    "finally\n",
    "{ \n",
    "#if NOTEBOOK\n",
    "    Console.WriteLine(\"Sample complete\");\n",
    "#else\n",
    "    Console.ReadLine();\n",
    "    Console.WriteLine(\"Sample complete, hit ENTER to exit...\");\n",
    "#endif\n",
    "}"
   ]
  }
 ],
 "metadata": {
  "kernelspec": {
   "display_name": ".NET (C#)",
   "language": "C#",
   "name": ".net-csharp"
  },
  "language_info": {
   "name": "polyglot-notebook"
  },
  "polyglot_notebook": {
   "kernelInfo": {
    "defaultKernelName": "csharp",
    "items": [
     {
      "aliases": [],
      "languageName": "csharp",
      "name": "csharp"
     }
    ]
   }
  }
 },
 "nbformat": 4,
 "nbformat_minor": 2
}
