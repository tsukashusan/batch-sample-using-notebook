{
 "cells": [
  {
   "cell_type": "markdown",
   "metadata": {},
   "source": [
    "# Azure Batch 追加実行"
   ]
  },
  {
   "cell_type": "markdown",
   "metadata": {},
   "source": [
    "## Nuget の実施"
   ]
  },
  {
   "cell_type": "code",
   "execution_count": null,
   "metadata": {
    "dotnet_interactive": {
     "language": "csharp"
    },
    "polyglot_notebook": {
     "kernelName": "csharp"
    },
    "vscode": {
     "languageId": "polyglot-notebook"
    }
   },
   "outputs": [],
   "source": [
    "#r \"nuget: Microsoft.Azure.Batch\"\n",
    "#r \"nuget: Azure.Storage.Blobs\"\n",
    "#r \"nuget: Azure.Identity\"\n",
    "#r \"nuget: DotNetEnv, 3.0.0\""
   ]
  },
  {
   "cell_type": "markdown",
   "metadata": {},
   "source": [
    "### Batch 追加"
   ]
  },
  {
   "cell_type": "markdown",
   "metadata": {},
   "source": [
    "### 宣言"
   ]
  },
  {
   "cell_type": "code",
   "execution_count": null,
   "metadata": {
    "dotnet_interactive": {
     "language": "csharp"
    },
    "polyglot_notebook": {
     "kernelName": "csharp"
    },
    "vscode": {
     "languageId": "polyglot-notebook"
    }
   },
   "outputs": [],
   "source": [
    "using Microsoft.Azure.Batch;\n",
    "using Microsoft.Azure.Batch.Auth;\n",
    "using Microsoft.Azure.Batch.Common;\n",
    "using Microsoft.Extensions.Configuration;\n",
    "\n",
    "DotNetEnv.Env.Load();\n",
    "\n",
    "readonly string tenantId = DotNetEnv.Env.GetString(\"TENANT_ID\");\n",
    "readonly string location = DotNetEnv.Env.GetString(\"LOCATION\");\n",
    "readonly string BatchAccountName = DotNetEnv.Env.GetString(\"BATCH_ACCOUNT_NAME\");\n",
    "readonly string BatchAccountKey = DotNetEnv.Env.GetString(\"BATCH_ACCOUNT_KEY\");\n",
    "readonly string BatchAccountUrl = string.Format(DotNetEnv.Env.GetString(\"BATCH_ACCOUNTURL\"), BatchAccountName, location);\n",
    "// Storage account credentials\n",
    "readonly string StorageAccountName = DotNetEnv.Env.GetString(\"STORAGE_ACCOUNT_NAME\");\n",
    "//const string StorageAccountKey = \"\";\n",
    "// Batch resource settings\n",
    "readonly string PoolId = DotNetEnv.Env.GetString(\"BATCH_POOL_ID\");\n",
    "readonly string JobId = DotNetEnv.Env.GetString(\"BATCH_JOB_ID\");\n",
    "readonly int PoolNodeCount = DotNetEnv.Env.GetInt(\"BATCH_POOL_NODE_COUNT\");\n",
    "readonly string PoolVMSize = DotNetEnv.Env.GetString(\"BATCH_POOL_VM_SIZE\");\n",
    "\n",
    "// Batch Image settings\n",
    "readonly string publisher = DotNetEnv.Env.GetString(\"SHARED_IMAGE_PUBLISHER\");\n",
    "readonly string offer = DotNetEnv.Env.GetString(\"SHARED_IMAGE_OFFER\");\n",
    "readonly string sku = DotNetEnv.Env.GetString(\"SHARED_IMAGE_SKU\");\n",
    "readonly string version = DotNetEnv.Env.GetString(\"SHARED_IMAGE_VERSION\");"
   ]
  },
  {
   "cell_type": "markdown",
   "metadata": {},
   "source": [
    "### Batch JOB & タスクの追加"
   ]
  },
  {
   "cell_type": "code",
   "execution_count": null,
   "metadata": {
    "dotnet_interactive": {
     "language": "csharp"
    },
    "polyglot_notebook": {
     "kernelName": "csharp"
    },
    "vscode": {
     "languageId": "polyglot-notebook"
    }
   },
   "outputs": [],
   "source": [
    "try\n",
    "{\n",
    "    var cred = new BatchSharedKeyCredentials(BatchAccountUrl, BatchAccountName, BatchAccountKey);\n",
    "    using BatchClient batchClient = BatchClient.Open(cred);\n",
    "    var jobid = $\"{JobId}add5\";\n",
    "    Console.WriteLine(\"Creating job [{0}]...\", jobid);\n",
    "    try\n",
    "    {\n",
    "        CloudJob job = batchClient.JobOperations.CreateJob();\n",
    "        job.Id = jobid;\n",
    "        job.PoolInformation = new PoolInformation { PoolId = PoolId };\n",
    "        job.Commit();\n",
    "    }\n",
    "    catch (BatchException be)\n",
    "    {\n",
    "        Console.WriteLine(be);\n",
    "        // Accept the specific error code JobExists as that is expected if the job already exists\n",
    "        if (be.RequestInformation?.BatchError?.Code == BatchErrorCodeStrings.JobExists)\n",
    "        {\n",
    "            Console.WriteLine(\"The job {0} already existed when we tried to create it\", jobid);\n",
    "        }\n",
    "        else\n",
    "        {\n",
    "            throw; // Any other exception is unexpected\n",
    "        }\n",
    "    }\n",
    "\n",
    "    var tasks = new List<CloudTask>()\n",
    "    {\n",
    "        new CloudTask(\"Task1\", \"powershell -Command \\\"echo 'Hello World!'\\\"\")\n",
    "    };\n",
    "    \n",
    "    // Add all tasks to the job.\n",
    "    batchClient.JobOperations.AddTask(jobid, tasks);\n",
    "    // Monitor task success/failure, specifying a maximum amount of time to wait for the tasks to complete.\n",
    "    TimeSpan timeout = TimeSpan.FromMinutes(30);\n",
    "    Console.WriteLine(\"Monitoring all tasks for 'Completed' state, timeout in {0}...\", timeout);\n",
    "    IEnumerable<CloudTask> addedTasks = batchClient.JobOperations.ListTasks(jobid);\n",
    "    batchClient.Utilities.CreateTaskStateMonitor().WaitAll(addedTasks, TaskState.Completed, timeout);\n",
    "    Console.WriteLine(\"All tasks reached state Completed.\");\n",
    "    // Print task output\n",
    "    Console.WriteLine();\n",
    "    Console.WriteLine(\"Printing task output...\");\n",
    "    IEnumerable<CloudTask> completedtasks = batchClient.JobOperations.ListTasks(jobid);\n",
    "    foreach (CloudTask task in completedtasks)\n",
    "    {\n",
    "        string nodeId = string.Format(task.ComputeNodeInformation.ComputeNodeId);\n",
    "        Console.WriteLine(\"Task: {0}\", task.Id);\n",
    "        Console.WriteLine(\"Node: {0}\", nodeId);\n",
    "        Console.WriteLine(\"Standard out:\");\n",
    "        Console.WriteLine(task.GetNodeFile(Constants.StandardOutFileName).ReadAsString());\n",
    "    }\n",
    "}\n",
    "catch(Exception e)\n",
    "{\n",
    "    Console.WriteLine(e);\n",
    "}"
   ]
  }
 ],
 "metadata": {
  "language_info": {
   "name": "python"
  }
 },
 "nbformat": 4,
 "nbformat_minor": 2
}
